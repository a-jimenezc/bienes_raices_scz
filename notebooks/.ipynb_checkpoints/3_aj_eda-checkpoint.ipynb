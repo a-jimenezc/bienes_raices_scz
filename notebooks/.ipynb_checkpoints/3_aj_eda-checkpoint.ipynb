{
 "cells": [
  {
   "cell_type": "code",
   "execution_count": 2,
   "metadata": {},
   "outputs": [],
   "source": [
    "import pandas as pd"
   ]
  },
  {
   "cell_type": "code",
   "execution_count": 3,
   "metadata": {},
   "outputs": [
    {
     "data": {
      "text/plain": [
       "Index(['precio', 'ambientes', 'no_baños', 'terreno_m2', 'año_constr',\n",
       "       'no_dormitorios', 'area_constr_m2', 'estacionamientos', 'latitud',\n",
       "       'longitud', 'tipo_de_propiedad', 'ofertado_como', 'ciudad', 'zona',\n",
       "       'provincia', 'dpto'],\n",
       "      dtype='object')"
      ]
     },
     "execution_count": 3,
     "metadata": {},
     "output_type": "execute_result"
    }
   ],
   "source": [
    "data_path = '../data/real_state_data_scz.csv'\n",
    "df = pd.read_csv(data_path)\n",
    "df.columns"
   ]
  },
  {
   "cell_type": "code",
   "execution_count": 4,
   "metadata": {},
   "outputs": [
    {
     "name": "stdout",
     "output_type": "stream",
     "text": [
      "dpto\n",
      " Santa Cruz    1522\n",
      "Name: count, dtype: int64\n",
      "provincia\n",
      " Andrés Ibáñez    1522\n",
      "Name: count, dtype: int64\n"
     ]
    }
   ],
   "source": [
    "print(df.dpto.value_counts())\n",
    "print(df.provincia.value_counts())"
   ]
  },
  {
   "attachments": {},
   "cell_type": "markdown",
   "metadata": {},
   "source": [
    "Todas las columnas provienen del departamento de Santa Cruz y provincia Andrés Ibáñez. Se omiten estas variables."
   ]
  },
  {
   "cell_type": "code",
   "execution_count": 12,
   "metadata": {},
   "outputs": [],
   "source": [
    "#eligiendo las variables para el análisis\n",
    "numerical = ['precio', 'ambientes', 'no_baños', 'terreno_m2', 'año_constr',\n",
    "       'no_dormitorios', 'area_constr_m2', 'estacionamientos', 'latitud',\n",
    "       'longitud']\n",
    "num_continuous = ['precio', 'terreno_m2', 'area_constr_m2',  'latitud', 'longitud']\n",
    "num_discrete = ['ambientes', 'no_baños', 'año_constr',\n",
    "       'no_dormitorios', 'estacionamientos']\n",
    "categorical = ['tipo_de_propiedad', 'ofertado_como', 'ciudad', 'zona']"
   ]
  },
  {
   "attachments": {},
   "cell_type": "markdown",
   "metadata": {},
   "source": [
    "### Valores Faltantes y DataTypes"
   ]
  },
  {
   "attachments": {},
   "cell_type": "markdown",
   "metadata": {},
   "source": [
    "Verificando valores faltantes."
   ]
  },
  {
   "cell_type": "code",
   "execution_count": 13,
   "metadata": {},
   "outputs": [
    {
     "data": {
      "text/plain": [
       "precio                  0\n",
       "ambientes             800\n",
       "no_baños                1\n",
       "terreno_m2            761\n",
       "año_constr              0\n",
       "no_dormitorios          6\n",
       "area_constr_m2          0\n",
       "estacionamientos     1165\n",
       "latitud                 0\n",
       "longitud                0\n",
       "tipo_de_propiedad       0\n",
       "ofertado_como           0\n",
       "ciudad                  0\n",
       "zona                    5\n",
       "provincia               0\n",
       "dpto                    0\n",
       "dtype: int64"
      ]
     },
     "execution_count": 13,
     "metadata": {},
     "output_type": "execute_result"
    }
   ],
   "source": [
    "df.isna().sum()"
   ]
  },
  {
   "attachments": {},
   "cell_type": "markdown",
   "metadata": {},
   "source": [
    "Se procede a explorar ambientes, terreno y estacionamientos para vel el tipo de propiedad al que pertenecen y decidir sobre la técnica de imputación"
   ]
  },
  {
   "cell_type": "code",
   "execution_count": 85,
   "metadata": {},
   "outputs": [
    {
     "name": "stdout",
     "output_type": "stream",
     "text": [
      "Terreno na:\n",
      " tipo_de_propiedad\n",
      "Departamento            725\n",
      "Casa                     26\n",
      "Estudio/Monoambiente      7\n",
      "Duplex                    3\n",
      "Name: count, dtype: int64 \n",
      "\n",
      "Total:\n",
      " tipo_de_propiedad\n",
      "Departamento                  760\n",
      "Casa                          690\n",
      "Casa con Espacio Comercial     55\n",
      "Estudio/Monoambiente           12\n",
      "Duplex                          3\n",
      "Penthouse                       2\n",
      "Name: count, dtype: int64\n"
     ]
    }
   ],
   "source": [
    "#ver el terreno con valores faltantes\n",
    "print('Terreno na:\\n', df[df.terreno_m2.isna()].tipo_de_propiedad.value_counts(dropna=False), '\\n')\n",
    "print('Total:\\n', df.tipo_de_propiedad.value_counts(dropna=False))"
   ]
  },
  {
   "attachments": {},
   "cell_type": "markdown",
   "metadata": {},
   "source": [
    "Se tiene en total 760 propiedades del tipo departamento. De esas 760, 725 departamentos no tienen listado el terreno_m2. Por lo que es necesario explorar esos 35 departamentos que sí tienen terreno_m2."
   ]
  },
  {
   "cell_type": "code",
   "execution_count": 19,
   "metadata": {},
   "outputs": [
    {
     "name": "stdout",
     "output_type": "stream",
     "text": [
      "30\n"
     ]
    }
   ],
   "source": [
    "print(len(df[(df['terreno_m2'].notna()) & (df['tipo_de_propiedad'] == 'Departamento') & \n",
    "             (df['terreno_m2'] == df['area_constr_m2'])]))"
   ]
  },
  {
   "attachments": {},
   "cell_type": "markdown",
   "metadata": {},
   "source": [
    "Como se puede observar, la mayoría de los departamentos que sí tienen terreno_m2 listado, 30 de 35, el valor de terreno m_2 coincide con el valor de area_cosntr_m2. De aquí se puede establecer la estratégia de repetir el valor del área_cosntr_m2 para el caso de los valores faltantes del terreno."
   ]
  },
  {
   "attachments": {},
   "cell_type": "markdown",
   "metadata": {},
   "source": [
    "Adicionalmente se analizan las 26 casa con valores faltantes de terreno"
   ]
  },
  {
   "cell_type": "code",
   "execution_count": 36,
   "metadata": {},
   "outputs": [
    {
     "data": {
      "text/plain": [
       "longitud\n",
       "-63.178    23\n",
       "-63.035     3\n",
       "Name: count, dtype: int64"
      ]
     },
     "execution_count": 36,
     "metadata": {},
     "output_type": "execute_result"
    }
   ],
   "source": [
    "df[(df['terreno_m2'].isna()) & (df['tipo_de_propiedad'] == 'Casa')].longitud.value_counts()"
   ]
  },
  {
   "attachments": {},
   "cell_type": "markdown",
   "metadata": {},
   "source": [
    "La mayoría pertenece a una sóla propiedad, 23 de 26. Luego se procederá a eliminar filas repetidas."
   ]
  },
  {
   "attachments": {},
   "cell_type": "markdown",
   "metadata": {},
   "source": [
    "Se analizan las propiedades con estacionamiento faltantes."
   ]
  },
  {
   "cell_type": "code",
   "execution_count": 48,
   "metadata": {},
   "outputs": [
    {
     "name": "stdout",
     "output_type": "stream",
     "text": [
      "Números de propiedades con estacinamiento faltante:\n"
     ]
    },
    {
     "data": {
      "text/plain": [
       "tipo_de_propiedad\n",
       "Departamento                  716\n",
       "Casa                          425\n",
       "Casa con Espacio Comercial     13\n",
       "Estudio/Monoambiente            8\n",
       "Penthouse                       2\n",
       "Duplex                          1\n",
       "Name: count, dtype: int64"
      ]
     },
     "execution_count": 48,
     "metadata": {},
     "output_type": "execute_result"
    }
   ],
   "source": [
    "print('Números de propiedades con estacinamiento faltante:')\n",
    "df[(df['estacionamientos'].isna())].tipo_de_propiedad.value_counts()\n"
   ]
  },
  {
   "attachments": {},
   "cell_type": "markdown",
   "metadata": {},
   "source": [
    "La mayoría son departamentos pero también casas. Se puede asumir que si el número de estacinamientos no viene listado, la propiedad no cuenta con estacionamientos, de otra forma se ofertaría con estos (los datos provienen de una página de ventas). En este caso, la técnica de imputación será remplazarlo con 0."
   ]
  },
  {
   "attachments": {},
   "cell_type": "markdown",
   "metadata": {},
   "source": [
    "Finalmente se analiza el número de ambientes."
   ]
  },
  {
   "cell_type": "code",
   "execution_count": 50,
   "metadata": {},
   "outputs": [
    {
     "data": {
      "text/plain": [
       "tipo_de_propiedad\n",
       "Departamento                  548\n",
       "Casa                          239\n",
       "Casa con Espacio Comercial      7\n",
       "Estudio/Monoambiente            3\n",
       "Duplex                          3\n",
       "Name: count, dtype: int64"
      ]
     },
     "execution_count": 50,
     "metadata": {},
     "output_type": "execute_result"
    }
   ],
   "source": [
    "df[(df['ambientes'].isna())].tipo_de_propiedad.value_counts()"
   ]
  },
  {
   "attachments": {},
   "cell_type": "markdown",
   "metadata": {},
   "source": [
    "Explorando para el caso de los departamentos."
   ]
  },
  {
   "cell_type": "code",
   "execution_count": 86,
   "metadata": {},
   "outputs": [
    {
     "data": {
      "text/plain": [
       "terreno_m2\n",
       "NaN      546\n",
       "63.06      1\n",
       "34.0       1\n",
       "Name: count, dtype: int64"
      ]
     },
     "execution_count": 86,
     "metadata": {},
     "output_type": "execute_result"
    }
   ],
   "source": [
    "df[(df['ambientes'].isna()) & \n",
    "       (df['tipo_de_propiedad']=='Departamento')\n",
    "       ].terreno_m2.value_counts(dropna=False)"
   ]
  },
  {
   "attachments": {},
   "cell_type": "markdown",
   "metadata": {},
   "source": [
    "Casi todos los departamentos con el número de ambientes faltante también tiene faltante el terreno."
   ]
  },
  {
   "cell_type": "code",
   "execution_count": 90,
   "metadata": {},
   "outputs": [
    {
     "name": "stdout",
     "output_type": "stream",
     "text": [
      "no_dormitorios\n",
      "2.0    247\n",
      "1.0    179\n",
      "3.0    121\n",
      "NaN      1\n",
      "Name: count, dtype: int64\n",
      "no_baños\n",
      "2.0    361\n",
      "1.0    169\n",
      "3.0     16\n",
      "4.0      2\n",
      "Name: count, dtype: int64\n"
     ]
    }
   ],
   "source": [
    "print(df[(df['ambientes'].isna()) & \n",
    "       (df['tipo_de_propiedad']=='Departamento')\n",
    "       ].no_dormitorios.value_counts(dropna=False))\n",
    "print(df[(df['ambientes'].isna()) & \n",
    "       (df['tipo_de_propiedad']=='Departamento')\n",
    "       ].no_baños.value_counts(dropna=False))"
   ]
  },
  {
   "attachments": {},
   "cell_type": "markdown",
   "metadata": {},
   "source": [
    "Sin embargo, para los valores de baños y dormitorios si tienen valores. De esto, se podría asumir que es una omisión sistemática de esta información para el caso de departamentos."
   ]
  },
  {
   "cell_type": "code",
   "execution_count": 117,
   "metadata": {},
   "outputs": [
    {
     "data": {
      "text/plain": [
       "77"
      ]
     },
     "execution_count": 117,
     "metadata": {},
     "output_type": "execute_result"
    }
   ],
   "source": [
    "len(df[(df['ambientes'] == df['no_baños']+df['no_dormitorios']) & \n",
    "       (df['tipo_de_propiedad']=='Casa')\n",
    "       ])"
   ]
  },
  {
   "attachments": {},
   "cell_type": "markdown",
   "metadata": {},
   "source": [
    "Esto indica que sí hay una correlación entre el número de ambientes y el resto de las variable. Por lo que se usarán dos casos, utilizar KNNImputer o eliminar la columna entera."
   ]
  },
  {
   "attachments": {},
   "cell_type": "raw",
   "metadata": {},
   "source": [
    "En resumen:\n",
    "Variable            Missing     Técnica de imputación  \n",
    "ambientes             800       KNNImputer\n",
    "no_baños                1       Dropna\n",
    "terreno_m2            761       ==area_constr_m2\n",
    "no_dormitorios          6       Dropna\n",
    "estacionamientos     1165       ==0\n",
    "zona                    5       Dropna"
   ]
  },
  {
   "attachments": {},
   "cell_type": "markdown",
   "metadata": {},
   "source": [
    "Efectuando las imputaciones para efectos de la exploración de datos. Para la construcción del modelo, se usarán los datos sin imputar y se aplicará las imputaciones en el pipeline de scikitlearn."
   ]
  },
  {
   "cell_type": "code",
   "execution_count": 144,
   "metadata": {},
   "outputs": [
    {
     "data": {
      "text/html": [
       "<div>\n",
       "<style scoped>\n",
       "    .dataframe tbody tr th:only-of-type {\n",
       "        vertical-align: middle;\n",
       "    }\n",
       "\n",
       "    .dataframe tbody tr th {\n",
       "        vertical-align: top;\n",
       "    }\n",
       "\n",
       "    .dataframe thead th {\n",
       "        text-align: right;\n",
       "    }\n",
       "</style>\n",
       "<table border=\"1\" class=\"dataframe\">\n",
       "  <thead>\n",
       "    <tr style=\"text-align: right;\">\n",
       "      <th></th>\n",
       "      <th>precio</th>\n",
       "      <th>no_baños</th>\n",
       "      <th>terreno_m2</th>\n",
       "      <th>año_constr</th>\n",
       "      <th>no_dormitorios</th>\n",
       "      <th>area_constr_m2</th>\n",
       "      <th>estacionamientos</th>\n",
       "      <th>latitud</th>\n",
       "      <th>longitud</th>\n",
       "      <th>tipo_de_propiedad</th>\n",
       "      <th>ofertado_como</th>\n",
       "      <th>ciudad</th>\n",
       "      <th>zona</th>\n",
       "      <th>provincia</th>\n",
       "      <th>dpto</th>\n",
       "    </tr>\n",
       "  </thead>\n",
       "  <tbody>\n",
       "    <tr>\n",
       "      <th>0</th>\n",
       "      <td>67000.0</td>\n",
       "      <td>2.0</td>\n",
       "      <td>320.0</td>\n",
       "      <td>2017</td>\n",
       "      <td>3.0</td>\n",
       "      <td>140.0</td>\n",
       "      <td>0.0</td>\n",
       "      <td>-17.769</td>\n",
       "      <td>-63.066</td>\n",
       "      <td>Casa</td>\n",
       "      <td>En Venta</td>\n",
       "      <td>Santa Cruz de la Sierra</td>\n",
       "      <td>Este</td>\n",
       "      <td>Andrés Ibáñez</td>\n",
       "      <td>Santa Cruz</td>\n",
       "    </tr>\n",
       "    <tr>\n",
       "      <th>1</th>\n",
       "      <td>67000.0</td>\n",
       "      <td>2.0</td>\n",
       "      <td>91.0</td>\n",
       "      <td>2018</td>\n",
       "      <td>2.0</td>\n",
       "      <td>91.0</td>\n",
       "      <td>0.0</td>\n",
       "      <td>-17.804</td>\n",
       "      <td>-63.157</td>\n",
       "      <td>Departamento</td>\n",
       "      <td>En Venta</td>\n",
       "      <td>Santa Cruz de la Sierra</td>\n",
       "      <td>Sur</td>\n",
       "      <td>Andrés Ibáñez</td>\n",
       "      <td>Santa Cruz</td>\n",
       "    </tr>\n",
       "    <tr>\n",
       "      <th>2</th>\n",
       "      <td>68000.0</td>\n",
       "      <td>2.0</td>\n",
       "      <td>193.0</td>\n",
       "      <td>2015</td>\n",
       "      <td>3.0</td>\n",
       "      <td>87.0</td>\n",
       "      <td>0.0</td>\n",
       "      <td>-17.836</td>\n",
       "      <td>-63.245</td>\n",
       "      <td>Casa</td>\n",
       "      <td>En Venta</td>\n",
       "      <td>Santa Cruz de la Sierra</td>\n",
       "      <td>Suroeste</td>\n",
       "      <td>Andrés Ibáñez</td>\n",
       "      <td>Santa Cruz</td>\n",
       "    </tr>\n",
       "    <tr>\n",
       "      <th>3</th>\n",
       "      <td>68000.0</td>\n",
       "      <td>1.0</td>\n",
       "      <td>62.83</td>\n",
       "      <td>2016</td>\n",
       "      <td>1.0</td>\n",
       "      <td>62.83</td>\n",
       "      <td>0.0</td>\n",
       "      <td>-17.755</td>\n",
       "      <td>-63.196</td>\n",
       "      <td>Departamento</td>\n",
       "      <td>En Venta</td>\n",
       "      <td>Santa Cruz de la Sierra</td>\n",
       "      <td>Equipetrol/NorOeste</td>\n",
       "      <td>Andrés Ibáñez</td>\n",
       "      <td>Santa Cruz</td>\n",
       "    </tr>\n",
       "    <tr>\n",
       "      <th>4</th>\n",
       "      <td>68000.0</td>\n",
       "      <td>2.0</td>\n",
       "      <td>300.0</td>\n",
       "      <td>2022</td>\n",
       "      <td>3.0</td>\n",
       "      <td>110.0</td>\n",
       "      <td>0.0</td>\n",
       "      <td>-17.653</td>\n",
       "      <td>-63.173</td>\n",
       "      <td>Casa</td>\n",
       "      <td>En Venta</td>\n",
       "      <td>Santa Cruz de la Sierra</td>\n",
       "      <td>Norte</td>\n",
       "      <td>Andrés Ibáñez</td>\n",
       "      <td>Santa Cruz</td>\n",
       "    </tr>\n",
       "  </tbody>\n",
       "</table>\n",
       "</div>"
      ],
      "text/plain": [
       "    precio  no_baños terreno_m2  año_constr  no_dormitorios area_constr_m2   \n",
       "0  67000.0       2.0      320.0        2017             3.0          140.0  \\\n",
       "1  67000.0       2.0       91.0        2018             2.0           91.0   \n",
       "2  68000.0       2.0      193.0        2015             3.0           87.0   \n",
       "3  68000.0       1.0      62.83        2016             1.0          62.83   \n",
       "4  68000.0       2.0      300.0        2022             3.0          110.0   \n",
       "\n",
       "   estacionamientos  latitud  longitud tipo_de_propiedad ofertado_como   \n",
       "0               0.0  -17.769   -63.066              Casa      En Venta  \\\n",
       "1               0.0  -17.804   -63.157      Departamento      En Venta   \n",
       "2               0.0  -17.836   -63.245              Casa      En Venta   \n",
       "3               0.0  -17.755   -63.196      Departamento      En Venta   \n",
       "4               0.0  -17.653   -63.173              Casa      En Venta   \n",
       "\n",
       "                    ciudad                 zona       provincia         dpto  \n",
       "0  Santa Cruz de la Sierra                 Este   Andrés Ibáñez   Santa Cruz  \n",
       "1  Santa Cruz de la Sierra                  Sur   Andrés Ibáñez   Santa Cruz  \n",
       "2  Santa Cruz de la Sierra             Suroeste   Andrés Ibáñez   Santa Cruz  \n",
       "3  Santa Cruz de la Sierra  Equipetrol/NorOeste   Andrés Ibáñez   Santa Cruz  \n",
       "4  Santa Cruz de la Sierra                Norte   Andrés Ibáñez   Santa Cruz  "
      ]
     },
     "execution_count": 144,
     "metadata": {},
     "output_type": "execute_result"
    }
   ],
   "source": [
    "df_1 = df[(df['no_baños'].notna()) & (df['no_dormitorios'].notna()) &\n",
    "          (df['zona'].notna())].copy()\n",
    "df_1['terreno_m2'].fillna(df['area_constr_m2'], inplace=True)\n",
    "df_1['estacionamientos'].fillna(0, inplace=True)\n",
    "df_1.drop('ambientes', axis=1, inplace=True)\n",
    "df_1.head()"
   ]
  },
  {
   "cell_type": "code",
   "execution_count": 133,
   "metadata": {},
   "outputs": [],
   "source": [
    "#Redefieniendo las variables de estudio\n",
    "numerical = ['precio', 'no_baños', 'terreno_m2', 'año_constr',\n",
    "       'no_dormitorios', 'area_constr_m2', 'estacionamientos', 'latitud',\n",
    "       'longitud']\n",
    "num_continuous = ['precio', 'terreno_m2', 'area_constr_m2',  'latitud', 'longitud']\n",
    "num_discrete = ['no_baños', 'año_constr',\n",
    "       'no_dormitorios', 'estacionamientos']\n",
    "categorical = ['tipo_de_propiedad', 'ofertado_como', 'ciudad', 'zona']"
   ]
  },
  {
   "attachments": {},
   "cell_type": "markdown",
   "metadata": {},
   "source": [
    "Verificando el tipo de datos."
   ]
  },
  {
   "cell_type": "code",
   "execution_count": 139,
   "metadata": {},
   "outputs": [
    {
     "data": {
      "text/plain": [
       "precio              float64\n",
       "no_baños            float64\n",
       "terreno_m2           object\n",
       "año_constr            int64\n",
       "no_dormitorios      float64\n",
       "area_constr_m2       object\n",
       "estacionamientos    float64\n",
       "latitud             float64\n",
       "longitud            float64\n",
       "dtype: object"
      ]
     },
     "execution_count": 139,
     "metadata": {},
     "output_type": "execute_result"
    }
   ],
   "source": [
    "df_1[numerical].dtypes"
   ]
  },
  {
   "cell_type": "code",
   "execution_count": 158,
   "metadata": {},
   "outputs": [
    {
     "data": {
      "text/plain": [
       "precio              float64\n",
       "no_baños              int32\n",
       "terreno_m2          float64\n",
       "año_constr            int32\n",
       "no_dormitorios        int32\n",
       "area_constr_m2      float64\n",
       "estacionamientos      int32\n",
       "latitud             float64\n",
       "longitud            float64\n",
       "dtype: object"
      ]
     },
     "execution_count": 158,
     "metadata": {},
     "output_type": "execute_result"
    }
   ],
   "source": [
    "df_2 = df_1.copy()\n",
    "df_2['terreno_m2'] = df_1['terreno_m2'].str.replace(',', '.').astype(float)\n",
    "df_2['area_constr_m2'] = df_1['area_constr_m2'].str.replace(',', '.').astype(float)\n",
    "df_2[num_discrete] = df_2[num_discrete].astype('int')\n",
    "df_2[numerical].dtypes"
   ]
  },
  {
   "attachments": {},
   "cell_type": "markdown",
   "metadata": {},
   "source": [
    "### Exploración Inicial de Datos"
   ]
  },
  {
   "attachments": {},
   "cell_type": "markdown",
   "metadata": {},
   "source": [
    "Se empieza con una descripción estadística de las varibles numéricas"
   ]
  },
  {
   "cell_type": "code",
   "execution_count": 166,
   "metadata": {},
   "outputs": [
    {
     "data": {
      "text/html": [
       "<div>\n",
       "<style scoped>\n",
       "    .dataframe tbody tr th:only-of-type {\n",
       "        vertical-align: middle;\n",
       "    }\n",
       "\n",
       "    .dataframe tbody tr th {\n",
       "        vertical-align: top;\n",
       "    }\n",
       "\n",
       "    .dataframe thead th {\n",
       "        text-align: right;\n",
       "    }\n",
       "</style>\n",
       "<table border=\"1\" class=\"dataframe\">\n",
       "  <thead>\n",
       "    <tr style=\"text-align: right;\">\n",
       "      <th></th>\n",
       "      <th>precio</th>\n",
       "      <th>no_baños</th>\n",
       "      <th>terreno_m2</th>\n",
       "      <th>año_constr</th>\n",
       "      <th>no_dormitorios</th>\n",
       "      <th>area_constr_m2</th>\n",
       "      <th>estacionamientos</th>\n",
       "      <th>latitud</th>\n",
       "      <th>longitud</th>\n",
       "    </tr>\n",
       "  </thead>\n",
       "  <tbody>\n",
       "    <tr>\n",
       "      <th>count</th>\n",
       "      <td>1511.000000</td>\n",
       "      <td>1511.000000</td>\n",
       "      <td>1511.000000</td>\n",
       "      <td>1511.000000</td>\n",
       "      <td>1511.000000</td>\n",
       "      <td>1511.000000</td>\n",
       "      <td>1511.000000</td>\n",
       "      <td>1511.000000</td>\n",
       "      <td>1511.000000</td>\n",
       "    </tr>\n",
       "    <tr>\n",
       "      <th>mean</th>\n",
       "      <td>93256.393117</td>\n",
       "      <td>2.145599</td>\n",
       "      <td>171.239405</td>\n",
       "      <td>2018.602912</td>\n",
       "      <td>2.754467</td>\n",
       "      <td>124.207113</td>\n",
       "      <td>0.608206</td>\n",
       "      <td>-17.652710</td>\n",
       "      <td>-62.996491</td>\n",
       "    </tr>\n",
       "    <tr>\n",
       "      <th>std</th>\n",
       "      <td>29955.894571</td>\n",
       "      <td>0.786462</td>\n",
       "      <td>124.551335</td>\n",
       "      <td>6.829899</td>\n",
       "      <td>1.398653</td>\n",
       "      <td>75.518978</td>\n",
       "      <td>3.457410</td>\n",
       "      <td>1.704762</td>\n",
       "      <td>3.777486</td>\n",
       "    </tr>\n",
       "    <tr>\n",
       "      <th>min</th>\n",
       "      <td>65.000000</td>\n",
       "      <td>1.000000</td>\n",
       "      <td>1.590000</td>\n",
       "      <td>1990.000000</td>\n",
       "      <td>1.000000</td>\n",
       "      <td>2.734000</td>\n",
       "      <td>0.000000</td>\n",
       "      <td>-17.914000</td>\n",
       "      <td>-103.337000</td>\n",
       "    </tr>\n",
       "    <tr>\n",
       "      <th>25%</th>\n",
       "      <td>68000.000000</td>\n",
       "      <td>2.000000</td>\n",
       "      <td>72.000000</td>\n",
       "      <td>2015.000000</td>\n",
       "      <td>2.000000</td>\n",
       "      <td>69.200000</td>\n",
       "      <td>0.000000</td>\n",
       "      <td>-17.795000</td>\n",
       "      <td>-63.192000</td>\n",
       "    </tr>\n",
       "    <tr>\n",
       "      <th>50%</th>\n",
       "      <td>95000.000000</td>\n",
       "      <td>2.000000</td>\n",
       "      <td>134.000000</td>\n",
       "      <td>2021.000000</td>\n",
       "      <td>3.000000</td>\n",
       "      <td>106.000000</td>\n",
       "      <td>0.000000</td>\n",
       "      <td>-17.768000</td>\n",
       "      <td>-63.178000</td>\n",
       "    </tr>\n",
       "    <tr>\n",
       "      <th>75%</th>\n",
       "      <td>123598.000000</td>\n",
       "      <td>3.000000</td>\n",
       "      <td>241.000000</td>\n",
       "      <td>2023.000000</td>\n",
       "      <td>3.000000</td>\n",
       "      <td>168.500000</td>\n",
       "      <td>0.000000</td>\n",
       "      <td>-17.745500</td>\n",
       "      <td>-63.153500</td>\n",
       "    </tr>\n",
       "    <tr>\n",
       "      <th>max</th>\n",
       "      <td>130000.000000</td>\n",
       "      <td>6.000000</td>\n",
       "      <td>974.950000</td>\n",
       "      <td>2025.000000</td>\n",
       "      <td>10.000000</td>\n",
       "      <td>846.000000</td>\n",
       "      <td>90.000000</td>\n",
       "      <td>20.561000</td>\n",
       "      <td>0.001000</td>\n",
       "    </tr>\n",
       "  </tbody>\n",
       "</table>\n",
       "</div>"
      ],
      "text/plain": [
       "              precio     no_baños   terreno_m2   año_constr  no_dormitorios   \n",
       "count    1511.000000  1511.000000  1511.000000  1511.000000     1511.000000  \\\n",
       "mean    93256.393117     2.145599   171.239405  2018.602912        2.754467   \n",
       "std     29955.894571     0.786462   124.551335     6.829899        1.398653   \n",
       "min        65.000000     1.000000     1.590000  1990.000000        1.000000   \n",
       "25%     68000.000000     2.000000    72.000000  2015.000000        2.000000   \n",
       "50%     95000.000000     2.000000   134.000000  2021.000000        3.000000   \n",
       "75%    123598.000000     3.000000   241.000000  2023.000000        3.000000   \n",
       "max    130000.000000     6.000000   974.950000  2025.000000       10.000000   \n",
       "\n",
       "       area_constr_m2  estacionamientos      latitud     longitud  \n",
       "count     1511.000000       1511.000000  1511.000000  1511.000000  \n",
       "mean       124.207113          0.608206   -17.652710   -62.996491  \n",
       "std         75.518978          3.457410     1.704762     3.777486  \n",
       "min          2.734000          0.000000   -17.914000  -103.337000  \n",
       "25%         69.200000          0.000000   -17.795000   -63.192000  \n",
       "50%        106.000000          0.000000   -17.768000   -63.178000  \n",
       "75%        168.500000          0.000000   -17.745500   -63.153500  \n",
       "max        846.000000         90.000000    20.561000     0.001000  "
      ]
     },
     "execution_count": 166,
     "metadata": {},
     "output_type": "execute_result"
    }
   ],
   "source": [
    "df_2[numerical].describe()"
   ]
  },
  {
   "cell_type": "code",
   "execution_count": null,
   "metadata": {},
   "outputs": [],
   "source": []
  }
 ],
 "metadata": {
  "kernelspec": {
   "display_name": "Python 3 (ipykernel)",
   "language": "python",
   "name": "python3"
  },
  "language_info": {
   "codemirror_mode": {
    "name": "ipython",
    "version": 3
   },
   "file_extension": ".py",
   "mimetype": "text/x-python",
   "name": "python",
   "nbconvert_exporter": "python",
   "pygments_lexer": "ipython3",
   "version": "3.10.10"
  }
 },
 "nbformat": 4,
 "nbformat_minor": 4
}
