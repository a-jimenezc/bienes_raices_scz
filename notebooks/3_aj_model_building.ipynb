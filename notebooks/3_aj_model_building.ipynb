{
 "cells": [
  {
   "cell_type": "code",
   "execution_count": 27,
   "metadata": {},
   "outputs": [],
   "source": [
    "import pandas as pd\n",
    "import numpy as np\n",
    "from sklearn.model_selection import train_test_split, GridSearchCV\n",
    "from sklearn.preprocessing import StandardScaler, OneHotEncoder\n",
    "from sklearn.compose import ColumnTransformer\n",
    "from sklearn.pipeline import Pipeline\n",
    "from sklearn.impute import SimpleImputer, KNNImputer\n",
    "from sklearn.ensemble import RandomForestRegressor\n",
    "from sklearn.base import clone\n",
    "from sklearn.linear_model import Lasso, Ridge\n",
    "from sklearn.svm import SVR\n",
    "from sklearn.ensemble import GradientBoostingRegressor\n",
    "from sklearn.neighbors import KNeighborsRegressor\n",
    "from sklearn.metrics import mean_absolute_error"
   ]
  },
  {
   "attachments": {},
   "cell_type": "markdown",
   "metadata": {},
   "source": [
    "### Data preparation"
   ]
  },
  {
   "cell_type": "code",
   "execution_count": 28,
   "metadata": {},
   "outputs": [
    {
     "name": "stdout",
     "output_type": "stream",
     "text": [
      "Index(['precio', 'ambientes', 'no_baños', 'terreno_m2', 'año_constr',\n",
      "       'no_dormitorios', 'area_constr_m2', 'estacionamientos', 'latitud',\n",
      "       'longitud', 'tipo_de_propiedad', 'ofertado_como', 'ciudad', 'zona',\n",
      "       'provincia', 'dpto'],\n",
      "      dtype='object')\n",
      "(1522, 16)\n"
     ]
    }
   ],
   "source": [
    "data_path = '../data/real_state_data_after_cleaning.csv'\n",
    "df = pd.read_csv(data_path)\n",
    "print(df.columns)\n",
    "print(df.shape)"
   ]
  },
  {
   "attachments": {},
   "cell_type": "markdown",
   "metadata": {},
   "source": [
    "Se excluyen las variables con una sola categoría"
   ]
  },
  {
   "cell_type": "code",
   "execution_count": 29,
   "metadata": {},
   "outputs": [],
   "source": [
    "# Variables a considerar en el modelo\n",
    "numerical = ['precio', 'ambientes', 'no_baños', 'terreno_m2', 'año_constr',\n",
    "       'no_dormitorios', 'area_constr_m2', 'estacionamientos', 'latitud',\n",
    "       'longitud']\n",
    "num_continuous = ['precio', 'terreno_m2', 'area_constr_m2',  'latitud', 'longitud']\n",
    "num_discrete = ['ambientes', 'no_baños', 'año_constr',\n",
    "       'no_dormitorios', 'estacionamientos']\n",
    "categorical = ['tipo_de_propiedad', 'ciudad', 'zona']\n"
   ]
  },
  {
   "cell_type": "code",
   "execution_count": 30,
   "metadata": {},
   "outputs": [],
   "source": [
    "#df_1 solo las variables consideradas\n",
    "df_1 = df[numerical + categorical]\n"
   ]
  },
  {
   "attachments": {},
   "cell_type": "markdown",
   "metadata": {},
   "source": [
    "Se eliminan las filas con valores faltantes, con excepción de dos columnas"
   ]
  },
  {
   "cell_type": "code",
   "execution_count": 31,
   "metadata": {},
   "outputs": [
    {
     "data": {
      "text/plain": [
       "precio                  0\n",
       "ambientes             795\n",
       "no_baños                0\n",
       "terreno_m2            758\n",
       "año_constr              0\n",
       "no_dormitorios          0\n",
       "area_constr_m2          0\n",
       "estacionamientos     1159\n",
       "latitud                 0\n",
       "longitud                0\n",
       "tipo_de_propiedad       0\n",
       "ciudad                  0\n",
       "zona                    0\n",
       "dtype: int64"
      ]
     },
     "execution_count": 31,
     "metadata": {},
     "output_type": "execute_result"
    }
   ],
   "source": [
    "#eliminando filas nulas en todas las columnas que nos sean ambientes y estacionamiento\n",
    "#df_1.isna().sum()\n",
    "df_2 = df_1.dropna(subset=df_1.columns.difference(['ambientes', 'terreno_m2', 'estacionamientos'])).copy()\n",
    "df_2.isna().sum()"
   ]
  },
  {
   "cell_type": "code",
   "execution_count": 32,
   "metadata": {},
   "outputs": [
    {
     "data": {
      "text/plain": [
       "precio                 0\n",
       "ambientes            795\n",
       "no_baños               0\n",
       "terreno_m2             0\n",
       "año_constr             0\n",
       "no_dormitorios         0\n",
       "area_constr_m2         0\n",
       "estacionamientos       0\n",
       "latitud                0\n",
       "longitud               0\n",
       "tipo_de_propiedad      0\n",
       "ciudad                 0\n",
       "zona                   0\n",
       "dtype: int64"
      ]
     },
     "execution_count": 32,
     "metadata": {},
     "output_type": "execute_result"
    }
   ],
   "source": [
    "#remplazando los valores faltantes de terreno por los de área de construcción\n",
    "df_2['terreno_m2'].fillna(df['area_constr_m2'], inplace=True)\n",
    "#remplazando los valores faltantes de estacionamiento por 0\n",
    "df_2['estacionamientos'].fillna(0, inplace=True)\n",
    "df_2.isna().sum()\n"
   ]
  },
  {
   "attachments": {},
   "cell_type": "markdown",
   "metadata": {},
   "source": [
    "Para ambientes se usará knn-imputer, se ve que hay entradas donde el número de ambientes sí es menor que la suma de dormitorios y baños. n para KNN es un hiperparámetro y se determinará cuando se entrené el modelo."
   ]
  },
  {
   "cell_type": "code",
   "execution_count": 33,
   "metadata": {},
   "outputs": [
    {
     "data": {
      "text/plain": [
       "(93, 13)"
      ]
     },
     "execution_count": 33,
     "metadata": {},
     "output_type": "execute_result"
    }
   ],
   "source": [
    "df_2[df_2['ambientes']<(df_2['no_baños']+df_2['no_dormitorios'])].shape"
   ]
  },
  {
   "attachments": {},
   "cell_type": "markdown",
   "metadata": {},
   "source": [
    "En la variables zona y tipo_de_propiedad, se eliminan las categorias con menos de 5 elementos"
   ]
  },
  {
   "cell_type": "code",
   "execution_count": 34,
   "metadata": {},
   "outputs": [
    {
     "data": {
      "text/plain": [
       "tipo_de_propiedad\n",
       "Departamento                  749\n",
       "Casa                          658\n",
       "Casa con Espacio Comercial     54\n",
       "Estudio/Monoambiente            9\n",
       "Name: count, dtype: int64"
      ]
     },
     "execution_count": 34,
     "metadata": {},
     "output_type": "execute_result"
    }
   ],
   "source": [
    "s_zonas = df_2.zona.value_counts()\n",
    "zonas = [zona for zona, value in s_zonas.items() if value > 4]\n",
    "df_3 = df_2[df_2['zona'].isin(zonas)]\n",
    "tipo_de_propiedades = df_3.tipo_de_propiedad.value_counts()\n",
    "propiedades = [propiedad for propiedad, value in tipo_de_propiedades.items() if value > 4]\n",
    "df_3 = df_3[df_3['tipo_de_propiedad'].isin(propiedades)]\n",
    "df_3.tipo_de_propiedad.value_counts()#.to_frame().T"
   ]
  },
  {
   "attachments": {},
   "cell_type": "markdown",
   "metadata": {},
   "source": [
    "Convirtiendo los datos al formato deseado"
   ]
  },
  {
   "cell_type": "code",
   "execution_count": 35,
   "metadata": {},
   "outputs": [
    {
     "name": "stdout",
     "output_type": "stream",
     "text": [
      "precio               float64\n",
      "ambientes              Int64\n",
      "no_baños               Int64\n",
      "terreno_m2           float64\n",
      "año_constr             Int64\n",
      "no_dormitorios         Int64\n",
      "area_constr_m2       float64\n",
      "estacionamientos       Int64\n",
      "latitud              float64\n",
      "longitud             float64\n",
      "tipo_de_propiedad     object\n",
      "ciudad                object\n",
      "zona                  object\n",
      "dtype: object\n"
     ]
    }
   ],
   "source": [
    "df_4 = df_3.copy()\n",
    "df_4['terreno_m2'] = pd.to_numeric(df_3['terreno_m2'].str.replace(',', '.'), errors='raise')\n",
    "df_4['area_constr_m2'] = pd.to_numeric(df_3['area_constr_m2'].str.replace(',', '.'), errors='coerce')\n",
    "df_4[num_discrete] = df_3[num_discrete].apply(pd.to_numeric, errors='coerce').astype('Int64')\n",
    "print(df_4.dtypes)"
   ]
  },
  {
   "attachments": {},
   "cell_type": "markdown",
   "metadata": {},
   "source": [
    "También, se eliminan los precios por debajo de 20000$, y se filtran los valores de longitud y latitud muy diferentes a los comunes"
   ]
  },
  {
   "cell_type": "code",
   "execution_count": 36,
   "metadata": {},
   "outputs": [
    {
     "name": "stdout",
     "output_type": "stream",
     "text": [
      "(1456, 13)\n",
      "(1445, 13)\n"
     ]
    }
   ],
   "source": [
    "df_5 = df_4[df_4['precio']>20000].copy()\n",
    "print(df_5.shape)\n",
    "df_5 = df_5[(df_5['longitud']>-64) & (df_5['longitud']<-63)].copy()\n",
    "df_5 = df_5[(df_5['latitud']>-18) & (df_5['latitud']<-17)].copy()\n",
    "print(df_5.shape)"
   ]
  },
  {
   "attachments": {},
   "cell_type": "markdown",
   "metadata": {},
   "source": [
    "Como último paso, se para los datos faltantes en ambientes la suma de baños y dormitorios.\n",
    "\n"
   ]
  },
  {
   "cell_type": "code",
   "execution_count": 88,
   "metadata": {},
   "outputs": [
    {
     "name": "stdout",
     "output_type": "stream",
     "text": [
      "Se cumple la igualdad antes (134, 13)\n",
      "Datos faltantes antes (773,)\n",
      "Se cumple la igualdad despues (134, 13)\n"
     ]
    }
   ],
   "source": [
    "df_6 = df_5.copy()\n",
    "\n",
    "mask_nan = df_6.ambientes.isna()\n",
    "mask_suma = df_6.ambientes==(df_6.no_baños+df_6.no_dormitorios)\n",
    "\n",
    "print('Se cumple la igualdad antes', df_6[mask_suma].shape)\n",
    "print('Datos faltantes antes', df_6.ambientes[mask].shape)\n",
    "\n",
    "df_6.ambientes[mask_nan] = df_6.no_baños[mask_nan] + df_6.no_dormitorios[mask_nan]\n",
    "\n",
    "print('Se cumple la igualdad despues', df_6[mask_suma].shape)\n",
    "\n",
    "#df_6[['ambientes', 'no_baños', 'no_dormitorios']][mask_nan]"
   ]
  },
  {
   "cell_type": "code",
   "execution_count": 91,
   "metadata": {},
   "outputs": [
    {
     "data": {
      "text/plain": [
       "0"
      ]
     },
     "execution_count": 91,
     "metadata": {},
     "output_type": "execute_result"
    }
   ],
   "source": [
    "# final check for missing data\n",
    "df_6.isna().sum().sum()"
   ]
  },
  {
   "attachments": {},
   "cell_type": "markdown",
   "metadata": {},
   "source": [
    "df_6 se usará para la construcción del modelo"
   ]
  },
  {
   "cell_type": "code",
   "execution_count": 92,
   "metadata": {},
   "outputs": [],
   "source": [
    "df_6.to_csv('../data/real_state_data_for_model.csv',index=False)"
   ]
  },
  {
   "attachments": {},
   "cell_type": "markdown",
   "metadata": {},
   "source": [
    "### Construccion del modelo"
   ]
  },
  {
   "attachments": {},
   "cell_type": "markdown",
   "metadata": {},
   "source": [
    "Se probarán varios algoritmos de regresión y se usará r como la métrica de evaluación."
   ]
  },
  {
   "cell_type": "code",
   "execution_count": 39,
   "metadata": {},
   "outputs": [
    {
     "name": "stdout",
     "output_type": "stream",
     "text": [
      "Model: gradboost\n",
      "Best Parameters: {'model__learning_rate': 0.1, 'model__max_depth': 5, 'model__n_estimators': 600, 'preprocessor__amb__imputer__n_neighbors': 3}\n",
      "Best Score: 0.8705536649686823\n",
      "Test Score: 0.8967057931417916\n",
      "MAE: 4203.376353877931\n",
      "\n"
     ]
    }
   ],
   "source": [
    "#reproducibility\n",
    "random_seed = 42  # Set a random seed for reproducibility\n",
    "np.random.seed(random_seed)\n",
    "\n",
    "#separando la variable objetivo\n",
    "X = df_6.drop('precio', axis=1)\n",
    "y = df_6['precio']\n",
    "y_stratify = df_6[['tipo_de_propiedad']] #mantener las proporciones de tipo_de_propiedad\n",
    "\n",
    "#preprocesando los datos\n",
    "X_train, X_test, y_train, y_test = train_test_split(X, y, test_size = 0.25, \n",
    "                                                    random_state=random_seed,\n",
    "                                                     stratify=y_stratify)\n",
    "\n",
    "#variables para las transformaciones, \n",
    "numerical = ['no_baños', 'terreno_m2', 'año_constr', \n",
    "       'no_dormitorios', 'area_constr_m2', 'latitud', 'longitud']\n",
    "categorical = ['tipo_de_propiedad', 'ciudad', 'zona']\n",
    "\n",
    "#generando el preprocesador por columna\n",
    "numeric_transformer = Pipeline([('inputer', SimpleImputer(strategy='constant', fill_value=0)),\n",
    "                                ('scaler', StandardScaler())])\n",
    "cat_transformer = Pipeline([('inputer', SimpleImputer(strategy='most_frequent')),\n",
    "                            ('onehot', OneHotEncoder())])#handle_unknown='ignore'\n",
    "estcmnts_transformer = Pipeline([('inputer', SimpleImputer(strategy='constant', fill_value=0)),\n",
    "                               ('scaler', StandardScaler())])\n",
    "ambientes_transformer = Pipeline([('imputer', KNNImputer(n_neighbors=5)),\n",
    "                                  ('scaler', StandardScaler())])\n",
    "\n",
    "preprocessor = ColumnTransformer([('num', numeric_transformer, numerical),\n",
    "                                ('cat', cat_transformer, categorical),\n",
    "                                ('est', estcmnts_transformer, ['estacionamientos']),\n",
    "                                ('amb', ambientes_transformer, ['ambientes'])\n",
    "                                ])\n",
    "models = {\n",
    "    #'lasso': Lasso(max_iter=100000, random_state=random_seed),\n",
    "    #'ridge': Ridge(random_state=random_seed),\n",
    "    #'random_forest': RandomForestRegressor(random_state=random_seed),\n",
    "    #'svr' : SVR(),\n",
    "    'gradboost' : GradientBoostingRegressor(random_state=random_seed),\n",
    "    #'knn' : KNeighborsRegressor()\n",
    "}\n",
    "\n",
    "param_grid = {\n",
    "    'lasso': {'model__alpha': [0.1, 1.0, 10.0], \n",
    "              'preprocessor__amb__imputer__n_neighbors': [3, 5, 7]},\n",
    "    'ridge': {'model__alpha': [0.1, 1.0, 10.0],\n",
    "              'preprocessor__amb__imputer__n_neighbors': [3, 5, 7]},\n",
    "    'random_forest': {'model__n_estimators': [100, 200, 300, 400, 500],\n",
    "                      'model__max_depth' : [1,2,3,4,5,6,None],\n",
    "                      'preprocessor__amb__imputer__n_neighbors': [3, 5, 7]},\n",
    "    'svr' : {'model__C': [0.1, 1.0, 10.0],  \n",
    "            'model__kernel': ['linear', 'poly', 'rbf', 'sigmoid'],  \n",
    "            'model__gamma': ['scale', 'auto'], \n",
    "            'model__epsilon': [0.1, 0.2, 0.5], \n",
    "            'preprocessor__amb__imputer__n_neighbors': [3, 5, 7]},\n",
    "    'gradboost' : {'model__learning_rate': [0.1, 0.8], \n",
    "            'model__n_estimators': [500, 600, 700],\n",
    "            'model__max_depth': [2, 3, 4, 5],  \n",
    "            #'model__subsample': [0.8, 1.0], \n",
    "            #'model__loss': ['squared_error', 'absolute_error'],\n",
    "            'preprocessor__amb__imputer__n_neighbors': [3]},\n",
    "    'knn' : {'model__n_neighbors' : [2, 3, 4, 5, 6, 7, 8, 9, 10],\n",
    "             'model__weights' : ['uniform', 'distance'],\n",
    "             'model__p' : [1, 2, 3, 4, 5],\n",
    "             'preprocessor__amb__imputer__n_neighbors': [3, 5, 7]}\n",
    "}\n",
    "\n",
    "results = {}\n",
    "for model_name, model in models.items():\n",
    "    pipeline = Pipeline([('preprocessor', preprocessor), ('model', model)])\n",
    "    grid_search = GridSearchCV(pipeline, param_grid[model_name], cv=5, n_jobs=-1)\n",
    "\n",
    "    grid_search.fit(X_train, y_train)\n",
    "\n",
    "    results[model_name] = {\n",
    "        'best_model' : grid_search.best_estimator_,\n",
    "        'best_params': grid_search.best_params_,\n",
    "        'best_score': grid_search.best_score_,\n",
    "        'test_score': grid_search.score(X_test, y_test),\n",
    "        'MAE': mean_absolute_error(y_test, grid_search.best_estimator_.predict(X_test))\n",
    "    }\n",
    "\n",
    "for model_name, result in results.items():\n",
    "    print(f\"Model: {model_name}\")\n",
    "    print(f\"Best Parameters: {result['best_params']}\")\n",
    "    print(f\"Best Score: {result['best_score']}\")\n",
    "    print(f\"Test Score: {result['test_score']}\")\n",
    "    print(f\"MAE: {result['MAE']}\")\n",
    "    print()"
   ]
  },
  {
   "attachments": {},
   "cell_type": "markdown",
   "metadata": {},
   "source": [
    "Model: random_forest\n",
    "Best Parameters: {'model__max_depth': None, 'model__n_estimators': 300, 'preprocessor__amb__imputer__n_neighbors': 3}\n",
    "Best Score: 0.8688338842652742\n",
    "Test Score: 0.8705882428055841\n",
    "MAE: 5000.085156175565\n",
    "\n",
    "Model: gradboost\n",
    "Best Parameters: {'model__learning_rate': 0.1, 'model__max_depth': 5, 'model__n_estimators': 600, 'preprocessor__amb__imputer__n_neighbors': 3}\n",
    "Best Score: 0.8705536649686823\n",
    "Test Score: 0.8967057931417916\n",
    "MAE: 4203.376353877931\n",
    "\n",
    "Model: knn\n",
    "Best Parameters: {'model__n_neighbors': 7, 'model__p': 1, 'model__weights': 'distance', 'preprocessor__amb__imputer__n_neighbors': 3}\n",
    "Best Score: 0.85815282433633\n",
    "Test Score: 0.8533985552044425\n",
    "MAE: 4969.396716026311\n"
   ]
  },
  {
   "attachments": {},
   "cell_type": "markdown",
   "metadata": {},
   "source": [
    "El mejor modelo es Gradient Boosting Regressor, por lo que se toma este."
   ]
  },
  {
   "cell_type": "code",
   "execution_count": 40,
   "metadata": {},
   "outputs": [
    {
     "data": {
      "text/html": [
       "<style>#sk-container-id-2 {color: black;background-color: white;}#sk-container-id-2 pre{padding: 0;}#sk-container-id-2 div.sk-toggleable {background-color: white;}#sk-container-id-2 label.sk-toggleable__label {cursor: pointer;display: block;width: 100%;margin-bottom: 0;padding: 0.3em;box-sizing: border-box;text-align: center;}#sk-container-id-2 label.sk-toggleable__label-arrow:before {content: \"▸\";float: left;margin-right: 0.25em;color: #696969;}#sk-container-id-2 label.sk-toggleable__label-arrow:hover:before {color: black;}#sk-container-id-2 div.sk-estimator:hover label.sk-toggleable__label-arrow:before {color: black;}#sk-container-id-2 div.sk-toggleable__content {max-height: 0;max-width: 0;overflow: hidden;text-align: left;background-color: #f0f8ff;}#sk-container-id-2 div.sk-toggleable__content pre {margin: 0.2em;color: black;border-radius: 0.25em;background-color: #f0f8ff;}#sk-container-id-2 input.sk-toggleable__control:checked~div.sk-toggleable__content {max-height: 200px;max-width: 100%;overflow: auto;}#sk-container-id-2 input.sk-toggleable__control:checked~label.sk-toggleable__label-arrow:before {content: \"▾\";}#sk-container-id-2 div.sk-estimator input.sk-toggleable__control:checked~label.sk-toggleable__label {background-color: #d4ebff;}#sk-container-id-2 div.sk-label input.sk-toggleable__control:checked~label.sk-toggleable__label {background-color: #d4ebff;}#sk-container-id-2 input.sk-hidden--visually {border: 0;clip: rect(1px 1px 1px 1px);clip: rect(1px, 1px, 1px, 1px);height: 1px;margin: -1px;overflow: hidden;padding: 0;position: absolute;width: 1px;}#sk-container-id-2 div.sk-estimator {font-family: monospace;background-color: #f0f8ff;border: 1px dotted black;border-radius: 0.25em;box-sizing: border-box;margin-bottom: 0.5em;}#sk-container-id-2 div.sk-estimator:hover {background-color: #d4ebff;}#sk-container-id-2 div.sk-parallel-item::after {content: \"\";width: 100%;border-bottom: 1px solid gray;flex-grow: 1;}#sk-container-id-2 div.sk-label:hover label.sk-toggleable__label {background-color: #d4ebff;}#sk-container-id-2 div.sk-serial::before {content: \"\";position: absolute;border-left: 1px solid gray;box-sizing: border-box;top: 0;bottom: 0;left: 50%;z-index: 0;}#sk-container-id-2 div.sk-serial {display: flex;flex-direction: column;align-items: center;background-color: white;padding-right: 0.2em;padding-left: 0.2em;position: relative;}#sk-container-id-2 div.sk-item {position: relative;z-index: 1;}#sk-container-id-2 div.sk-parallel {display: flex;align-items: stretch;justify-content: center;background-color: white;position: relative;}#sk-container-id-2 div.sk-item::before, #sk-container-id-2 div.sk-parallel-item::before {content: \"\";position: absolute;border-left: 1px solid gray;box-sizing: border-box;top: 0;bottom: 0;left: 50%;z-index: -1;}#sk-container-id-2 div.sk-parallel-item {display: flex;flex-direction: column;z-index: 1;position: relative;background-color: white;}#sk-container-id-2 div.sk-parallel-item:first-child::after {align-self: flex-end;width: 50%;}#sk-container-id-2 div.sk-parallel-item:last-child::after {align-self: flex-start;width: 50%;}#sk-container-id-2 div.sk-parallel-item:only-child::after {width: 0;}#sk-container-id-2 div.sk-dashed-wrapped {border: 1px dashed gray;margin: 0 0.4em 0.5em 0.4em;box-sizing: border-box;padding-bottom: 0.4em;background-color: white;}#sk-container-id-2 div.sk-label label {font-family: monospace;font-weight: bold;display: inline-block;line-height: 1.2em;}#sk-container-id-2 div.sk-label-container {text-align: center;}#sk-container-id-2 div.sk-container {/* jupyter's `normalize.less` sets `[hidden] { display: none; }` but bootstrap.min.css set `[hidden] { display: none !important; }` so we also need the `!important` here to be able to override the default hidden behavior on the sphinx rendered scikit-learn.org. See: https://github.com/scikit-learn/scikit-learn/issues/21755 */display: inline-block !important;position: relative;}#sk-container-id-2 div.sk-text-repr-fallback {display: none;}</style><div id=\"sk-container-id-2\" class=\"sk-top-container\"><div class=\"sk-text-repr-fallback\"><pre>Pipeline(steps=[(&#x27;preprocessor&#x27;,\n",
       "                 ColumnTransformer(transformers=[(&#x27;num&#x27;,\n",
       "                                                  Pipeline(steps=[(&#x27;inputer&#x27;,\n",
       "                                                                   SimpleImputer(fill_value=0,\n",
       "                                                                                 strategy=&#x27;constant&#x27;)),\n",
       "                                                                  (&#x27;scaler&#x27;,\n",
       "                                                                   StandardScaler())]),\n",
       "                                                  [&#x27;no_baños&#x27;, &#x27;terreno_m2&#x27;,\n",
       "                                                   &#x27;año_constr&#x27;,\n",
       "                                                   &#x27;no_dormitorios&#x27;,\n",
       "                                                   &#x27;area_constr_m2&#x27;, &#x27;latitud&#x27;,\n",
       "                                                   &#x27;longitud&#x27;]),\n",
       "                                                 (&#x27;cat&#x27;,\n",
       "                                                  Pipeline(steps=[(&#x27;inputer&#x27;,\n",
       "                                                                   SimpleImputer(strategy=&#x27;most_frequent&#x27;)),\n",
       "                                                                  (&#x27;o...\n",
       "                                                  [&#x27;tipo_de_propiedad&#x27;,\n",
       "                                                   &#x27;ciudad&#x27;, &#x27;zona&#x27;]),\n",
       "                                                 (&#x27;est&#x27;,\n",
       "                                                  Pipeline(steps=[(&#x27;inputer&#x27;,\n",
       "                                                                   SimpleImputer(fill_value=0,\n",
       "                                                                                 strategy=&#x27;constant&#x27;)),\n",
       "                                                                  (&#x27;scaler&#x27;,\n",
       "                                                                   StandardScaler())]),\n",
       "                                                  [&#x27;estacionamientos&#x27;]),\n",
       "                                                 (&#x27;amb&#x27;,\n",
       "                                                  Pipeline(steps=[(&#x27;imputer&#x27;,\n",
       "                                                                   KNNImputer(n_neighbors=3)),\n",
       "                                                                  (&#x27;scaler&#x27;,\n",
       "                                                                   StandardScaler())]),\n",
       "                                                  [&#x27;ambientes&#x27;])])),\n",
       "                (&#x27;model&#x27;,\n",
       "                 GradientBoostingRegressor(max_depth=5, n_estimators=600,\n",
       "                                           random_state=42))])</pre><b>In a Jupyter environment, please rerun this cell to show the HTML representation or trust the notebook. <br />On GitHub, the HTML representation is unable to render, please try loading this page with nbviewer.org.</b></div><div class=\"sk-container\" hidden><div class=\"sk-item sk-dashed-wrapped\"><div class=\"sk-label-container\"><div class=\"sk-label sk-toggleable\"><input class=\"sk-toggleable__control sk-hidden--visually\" id=\"sk-estimator-id-16\" type=\"checkbox\" ><label for=\"sk-estimator-id-16\" class=\"sk-toggleable__label sk-toggleable__label-arrow\">Pipeline</label><div class=\"sk-toggleable__content\"><pre>Pipeline(steps=[(&#x27;preprocessor&#x27;,\n",
       "                 ColumnTransformer(transformers=[(&#x27;num&#x27;,\n",
       "                                                  Pipeline(steps=[(&#x27;inputer&#x27;,\n",
       "                                                                   SimpleImputer(fill_value=0,\n",
       "                                                                                 strategy=&#x27;constant&#x27;)),\n",
       "                                                                  (&#x27;scaler&#x27;,\n",
       "                                                                   StandardScaler())]),\n",
       "                                                  [&#x27;no_baños&#x27;, &#x27;terreno_m2&#x27;,\n",
       "                                                   &#x27;año_constr&#x27;,\n",
       "                                                   &#x27;no_dormitorios&#x27;,\n",
       "                                                   &#x27;area_constr_m2&#x27;, &#x27;latitud&#x27;,\n",
       "                                                   &#x27;longitud&#x27;]),\n",
       "                                                 (&#x27;cat&#x27;,\n",
       "                                                  Pipeline(steps=[(&#x27;inputer&#x27;,\n",
       "                                                                   SimpleImputer(strategy=&#x27;most_frequent&#x27;)),\n",
       "                                                                  (&#x27;o...\n",
       "                                                  [&#x27;tipo_de_propiedad&#x27;,\n",
       "                                                   &#x27;ciudad&#x27;, &#x27;zona&#x27;]),\n",
       "                                                 (&#x27;est&#x27;,\n",
       "                                                  Pipeline(steps=[(&#x27;inputer&#x27;,\n",
       "                                                                   SimpleImputer(fill_value=0,\n",
       "                                                                                 strategy=&#x27;constant&#x27;)),\n",
       "                                                                  (&#x27;scaler&#x27;,\n",
       "                                                                   StandardScaler())]),\n",
       "                                                  [&#x27;estacionamientos&#x27;]),\n",
       "                                                 (&#x27;amb&#x27;,\n",
       "                                                  Pipeline(steps=[(&#x27;imputer&#x27;,\n",
       "                                                                   KNNImputer(n_neighbors=3)),\n",
       "                                                                  (&#x27;scaler&#x27;,\n",
       "                                                                   StandardScaler())]),\n",
       "                                                  [&#x27;ambientes&#x27;])])),\n",
       "                (&#x27;model&#x27;,\n",
       "                 GradientBoostingRegressor(max_depth=5, n_estimators=600,\n",
       "                                           random_state=42))])</pre></div></div></div><div class=\"sk-serial\"><div class=\"sk-item sk-dashed-wrapped\"><div class=\"sk-label-container\"><div class=\"sk-label sk-toggleable\"><input class=\"sk-toggleable__control sk-hidden--visually\" id=\"sk-estimator-id-17\" type=\"checkbox\" ><label for=\"sk-estimator-id-17\" class=\"sk-toggleable__label sk-toggleable__label-arrow\">preprocessor: ColumnTransformer</label><div class=\"sk-toggleable__content\"><pre>ColumnTransformer(transformers=[(&#x27;num&#x27;,\n",
       "                                 Pipeline(steps=[(&#x27;inputer&#x27;,\n",
       "                                                  SimpleImputer(fill_value=0,\n",
       "                                                                strategy=&#x27;constant&#x27;)),\n",
       "                                                 (&#x27;scaler&#x27;, StandardScaler())]),\n",
       "                                 [&#x27;no_baños&#x27;, &#x27;terreno_m2&#x27;, &#x27;año_constr&#x27;,\n",
       "                                  &#x27;no_dormitorios&#x27;, &#x27;area_constr_m2&#x27;, &#x27;latitud&#x27;,\n",
       "                                  &#x27;longitud&#x27;]),\n",
       "                                (&#x27;cat&#x27;,\n",
       "                                 Pipeline(steps=[(&#x27;inputer&#x27;,\n",
       "                                                  SimpleImputer(strategy=&#x27;most_frequent&#x27;)),\n",
       "                                                 (&#x27;onehot&#x27;, OneHotEncoder())]),\n",
       "                                 [&#x27;tipo_de_propiedad&#x27;, &#x27;ciudad&#x27;, &#x27;zona&#x27;]),\n",
       "                                (&#x27;est&#x27;,\n",
       "                                 Pipeline(steps=[(&#x27;inputer&#x27;,\n",
       "                                                  SimpleImputer(fill_value=0,\n",
       "                                                                strategy=&#x27;constant&#x27;)),\n",
       "                                                 (&#x27;scaler&#x27;, StandardScaler())]),\n",
       "                                 [&#x27;estacionamientos&#x27;]),\n",
       "                                (&#x27;amb&#x27;,\n",
       "                                 Pipeline(steps=[(&#x27;imputer&#x27;,\n",
       "                                                  KNNImputer(n_neighbors=3)),\n",
       "                                                 (&#x27;scaler&#x27;, StandardScaler())]),\n",
       "                                 [&#x27;ambientes&#x27;])])</pre></div></div></div><div class=\"sk-parallel\"><div class=\"sk-parallel-item\"><div class=\"sk-item\"><div class=\"sk-label-container\"><div class=\"sk-label sk-toggleable\"><input class=\"sk-toggleable__control sk-hidden--visually\" id=\"sk-estimator-id-18\" type=\"checkbox\" ><label for=\"sk-estimator-id-18\" class=\"sk-toggleable__label sk-toggleable__label-arrow\">num</label><div class=\"sk-toggleable__content\"><pre>[&#x27;no_baños&#x27;, &#x27;terreno_m2&#x27;, &#x27;año_constr&#x27;, &#x27;no_dormitorios&#x27;, &#x27;area_constr_m2&#x27;, &#x27;latitud&#x27;, &#x27;longitud&#x27;]</pre></div></div></div><div class=\"sk-serial\"><div class=\"sk-item\"><div class=\"sk-serial\"><div class=\"sk-item\"><div class=\"sk-estimator sk-toggleable\"><input class=\"sk-toggleable__control sk-hidden--visually\" id=\"sk-estimator-id-19\" type=\"checkbox\" ><label for=\"sk-estimator-id-19\" class=\"sk-toggleable__label sk-toggleable__label-arrow\">SimpleImputer</label><div class=\"sk-toggleable__content\"><pre>SimpleImputer(fill_value=0, strategy=&#x27;constant&#x27;)</pre></div></div></div><div class=\"sk-item\"><div class=\"sk-estimator sk-toggleable\"><input class=\"sk-toggleable__control sk-hidden--visually\" id=\"sk-estimator-id-20\" type=\"checkbox\" ><label for=\"sk-estimator-id-20\" class=\"sk-toggleable__label sk-toggleable__label-arrow\">StandardScaler</label><div class=\"sk-toggleable__content\"><pre>StandardScaler()</pre></div></div></div></div></div></div></div></div><div class=\"sk-parallel-item\"><div class=\"sk-item\"><div class=\"sk-label-container\"><div class=\"sk-label sk-toggleable\"><input class=\"sk-toggleable__control sk-hidden--visually\" id=\"sk-estimator-id-21\" type=\"checkbox\" ><label for=\"sk-estimator-id-21\" class=\"sk-toggleable__label sk-toggleable__label-arrow\">cat</label><div class=\"sk-toggleable__content\"><pre>[&#x27;tipo_de_propiedad&#x27;, &#x27;ciudad&#x27;, &#x27;zona&#x27;]</pre></div></div></div><div class=\"sk-serial\"><div class=\"sk-item\"><div class=\"sk-serial\"><div class=\"sk-item\"><div class=\"sk-estimator sk-toggleable\"><input class=\"sk-toggleable__control sk-hidden--visually\" id=\"sk-estimator-id-22\" type=\"checkbox\" ><label for=\"sk-estimator-id-22\" class=\"sk-toggleable__label sk-toggleable__label-arrow\">SimpleImputer</label><div class=\"sk-toggleable__content\"><pre>SimpleImputer(strategy=&#x27;most_frequent&#x27;)</pre></div></div></div><div class=\"sk-item\"><div class=\"sk-estimator sk-toggleable\"><input class=\"sk-toggleable__control sk-hidden--visually\" id=\"sk-estimator-id-23\" type=\"checkbox\" ><label for=\"sk-estimator-id-23\" class=\"sk-toggleable__label sk-toggleable__label-arrow\">OneHotEncoder</label><div class=\"sk-toggleable__content\"><pre>OneHotEncoder()</pre></div></div></div></div></div></div></div></div><div class=\"sk-parallel-item\"><div class=\"sk-item\"><div class=\"sk-label-container\"><div class=\"sk-label sk-toggleable\"><input class=\"sk-toggleable__control sk-hidden--visually\" id=\"sk-estimator-id-24\" type=\"checkbox\" ><label for=\"sk-estimator-id-24\" class=\"sk-toggleable__label sk-toggleable__label-arrow\">est</label><div class=\"sk-toggleable__content\"><pre>[&#x27;estacionamientos&#x27;]</pre></div></div></div><div class=\"sk-serial\"><div class=\"sk-item\"><div class=\"sk-serial\"><div class=\"sk-item\"><div class=\"sk-estimator sk-toggleable\"><input class=\"sk-toggleable__control sk-hidden--visually\" id=\"sk-estimator-id-25\" type=\"checkbox\" ><label for=\"sk-estimator-id-25\" class=\"sk-toggleable__label sk-toggleable__label-arrow\">SimpleImputer</label><div class=\"sk-toggleable__content\"><pre>SimpleImputer(fill_value=0, strategy=&#x27;constant&#x27;)</pre></div></div></div><div class=\"sk-item\"><div class=\"sk-estimator sk-toggleable\"><input class=\"sk-toggleable__control sk-hidden--visually\" id=\"sk-estimator-id-26\" type=\"checkbox\" ><label for=\"sk-estimator-id-26\" class=\"sk-toggleable__label sk-toggleable__label-arrow\">StandardScaler</label><div class=\"sk-toggleable__content\"><pre>StandardScaler()</pre></div></div></div></div></div></div></div></div><div class=\"sk-parallel-item\"><div class=\"sk-item\"><div class=\"sk-label-container\"><div class=\"sk-label sk-toggleable\"><input class=\"sk-toggleable__control sk-hidden--visually\" id=\"sk-estimator-id-27\" type=\"checkbox\" ><label for=\"sk-estimator-id-27\" class=\"sk-toggleable__label sk-toggleable__label-arrow\">amb</label><div class=\"sk-toggleable__content\"><pre>[&#x27;ambientes&#x27;]</pre></div></div></div><div class=\"sk-serial\"><div class=\"sk-item\"><div class=\"sk-serial\"><div class=\"sk-item\"><div class=\"sk-estimator sk-toggleable\"><input class=\"sk-toggleable__control sk-hidden--visually\" id=\"sk-estimator-id-28\" type=\"checkbox\" ><label for=\"sk-estimator-id-28\" class=\"sk-toggleable__label sk-toggleable__label-arrow\">KNNImputer</label><div class=\"sk-toggleable__content\"><pre>KNNImputer(n_neighbors=3)</pre></div></div></div><div class=\"sk-item\"><div class=\"sk-estimator sk-toggleable\"><input class=\"sk-toggleable__control sk-hidden--visually\" id=\"sk-estimator-id-29\" type=\"checkbox\" ><label for=\"sk-estimator-id-29\" class=\"sk-toggleable__label sk-toggleable__label-arrow\">StandardScaler</label><div class=\"sk-toggleable__content\"><pre>StandardScaler()</pre></div></div></div></div></div></div></div></div></div></div><div class=\"sk-item\"><div class=\"sk-estimator sk-toggleable\"><input class=\"sk-toggleable__control sk-hidden--visually\" id=\"sk-estimator-id-30\" type=\"checkbox\" ><label for=\"sk-estimator-id-30\" class=\"sk-toggleable__label sk-toggleable__label-arrow\">GradientBoostingRegressor</label><div class=\"sk-toggleable__content\"><pre>GradientBoostingRegressor(max_depth=5, n_estimators=600, random_state=42)</pre></div></div></div></div></div></div></div>"
      ],
      "text/plain": [
       "Pipeline(steps=[('preprocessor',\n",
       "                 ColumnTransformer(transformers=[('num',\n",
       "                                                  Pipeline(steps=[('inputer',\n",
       "                                                                   SimpleImputer(fill_value=0,\n",
       "                                                                                 strategy='constant')),\n",
       "                                                                  ('scaler',\n",
       "                                                                   StandardScaler())]),\n",
       "                                                  ['no_baños', 'terreno_m2',\n",
       "                                                   'año_constr',\n",
       "                                                   'no_dormitorios',\n",
       "                                                   'area_constr_m2', 'latitud',\n",
       "                                                   'longitud']),\n",
       "                                                 ('cat',\n",
       "                                                  Pipeline(steps=[('inputer',\n",
       "                                                                   SimpleImputer(strategy='most_frequent')),\n",
       "                                                                  ('o...\n",
       "                                                  ['tipo_de_propiedad',\n",
       "                                                   'ciudad', 'zona']),\n",
       "                                                 ('est',\n",
       "                                                  Pipeline(steps=[('inputer',\n",
       "                                                                   SimpleImputer(fill_value=0,\n",
       "                                                                                 strategy='constant')),\n",
       "                                                                  ('scaler',\n",
       "                                                                   StandardScaler())]),\n",
       "                                                  ['estacionamientos']),\n",
       "                                                 ('amb',\n",
       "                                                  Pipeline(steps=[('imputer',\n",
       "                                                                   KNNImputer(n_neighbors=3)),\n",
       "                                                                  ('scaler',\n",
       "                                                                   StandardScaler())]),\n",
       "                                                  ['ambientes'])])),\n",
       "                ('model',\n",
       "                 GradientBoostingRegressor(max_depth=5, n_estimators=600,\n",
       "                                           random_state=42))])"
      ]
     },
     "execution_count": 40,
     "metadata": {},
     "output_type": "execute_result"
    }
   ],
   "source": [
    "best_model = results['gradboost']['best_model']\n",
    "best_model"
   ]
  },
  {
   "attachments": {},
   "cell_type": "markdown",
   "metadata": {},
   "source": [
    "Prediciendo con el mejor modelo"
   ]
  },
  {
   "cell_type": "code",
   "execution_count": 41,
   "metadata": {},
   "outputs": [
    {
     "data": {
      "text/plain": [
       "array([60069.00203555])"
      ]
     },
     "execution_count": 41,
     "metadata": {},
     "output_type": "execute_result"
    }
   ],
   "source": [
    "data = {\n",
    "    'ambientes': [7],\n",
    "    'no_baños': [2],\n",
    "    'terreno_m2': [393],\n",
    "    'año_constr': [2013],\n",
    "    'no_dormitorios': [3],\n",
    "    'area_constr_m2': [100.0],\n",
    "    'estacionamientos': [4],\n",
    "    'latitud': [-17.643187],\n",
    "    'longitud': [-63.173777],\n",
    "    'tipo_de_propiedad': ['Casa'],\n",
    "    'ciudad': ['Santa Cruz de la Sierra'],\n",
    "    'zona': ['Norte']\n",
    "}\n",
    "#imput_data: dataframe\n",
    "data_1 = pd.DataFrame(data)\n",
    "\n",
    "best_model.predict(data_1)"
   ]
  },
  {
   "cell_type": "code",
   "execution_count": 42,
   "metadata": {},
   "outputs": [
    {
     "data": {
      "text/plain": [
       "array([69045.51427282])"
      ]
     },
     "execution_count": 42,
     "metadata": {},
     "output_type": "execute_result"
    }
   ],
   "source": [
    "data = {\n",
    "    'ambientes': [5],\n",
    "    'no_baños': [2],\n",
    "    'terreno_m2': [60],\n",
    "    'año_constr': [2018],\n",
    "    'no_dormitorios': [2],\n",
    "    'area_constr_m2': [60],\n",
    "    'estacionamientos': [1],\n",
    "    'latitud': [-17.787357],\n",
    "    'longitud': [-63.213448],\n",
    "    'tipo_de_propiedad': ['Departamento'],\n",
    "    'ciudad': ['Santa Cruz de la Sierra'],\n",
    "    'zona': ['Oeste']\n",
    "}\n",
    "data_2 = pd.DataFrame(data)\n",
    "\n",
    "best_model.predict(data_2)\n"
   ]
  },
  {
   "attachments": {},
   "cell_type": "markdown",
   "metadata": {},
   "source": [
    "Exportando el modelo"
   ]
  },
  {
   "cell_type": "code",
   "execution_count": 43,
   "metadata": {},
   "outputs": [],
   "source": [
    "import pickle\n",
    "import numpy as np\n",
    "pickl = {'model': best_model}\n",
    "file_name = '../models/model_file_test.p'\n",
    "pickle.dump( pickl, open(file_name, \"wb\" ) )"
   ]
  },
  {
   "attachments": {},
   "cell_type": "markdown",
   "metadata": {},
   "source": [
    "Probando el modelo exportado"
   ]
  },
  {
   "cell_type": "code",
   "execution_count": 44,
   "metadata": {},
   "outputs": [
    {
     "data": {
      "text/plain": [
       "array([60069.00203555])"
      ]
     },
     "execution_count": 44,
     "metadata": {},
     "output_type": "execute_result"
    }
   ],
   "source": [
    "with open(file_name, 'rb') as pickled:\n",
    "    data = pickle.load(pickled)\n",
    "    model = data['model']\n",
    "\n",
    "model.predict(data_1)\n"
   ]
  },
  {
   "attachments": {},
   "cell_type": "markdown",
   "metadata": {},
   "source": [
    "### Debugging"
   ]
  },
  {
   "cell_type": "code",
   "execution_count": 45,
   "metadata": {},
   "outputs": [
    {
     "name": "stdout",
     "output_type": "stream",
     "text": [
      "Norte\n",
      "Sur\n",
      "Este\n",
      "Equipetrol/NorOeste\n",
      "Urubo\n",
      "Oeste\n",
      "Sureste\n",
      "Urbari\n",
      "Centro (Casco Viejo)\n",
      "ESTE\n",
      "Noreste\n",
      "Suroeste\n",
      "Noroeste\n"
     ]
    }
   ],
   "source": [
    "for i in df_6.zona.value_counts().index:\n",
    "    print(i)"
   ]
  },
  {
   "cell_type": "code",
   "execution_count": 46,
   "metadata": {},
   "outputs": [
    {
     "data": {
      "text/html": [
       "<div>\n",
       "<style scoped>\n",
       "    .dataframe tbody tr th:only-of-type {\n",
       "        vertical-align: middle;\n",
       "    }\n",
       "\n",
       "    .dataframe tbody tr th {\n",
       "        vertical-align: top;\n",
       "    }\n",
       "\n",
       "    .dataframe thead th {\n",
       "        text-align: right;\n",
       "    }\n",
       "</style>\n",
       "<table border=\"1\" class=\"dataframe\">\n",
       "  <thead>\n",
       "    <tr style=\"text-align: right;\">\n",
       "      <th></th>\n",
       "      <th>tipo_de_propiedad_Casa</th>\n",
       "      <th>tipo_de_propiedad_Casa con Espacio Comercial</th>\n",
       "      <th>tipo_de_propiedad_Departamento</th>\n",
       "      <th>tipo_de_propiedad_Estudio/Monoambiente</th>\n",
       "    </tr>\n",
       "  </thead>\n",
       "  <tbody>\n",
       "    <tr>\n",
       "      <th>0</th>\n",
       "      <td>0.0</td>\n",
       "      <td>0.0</td>\n",
       "      <td>1.0</td>\n",
       "      <td>0.0</td>\n",
       "    </tr>\n",
       "    <tr>\n",
       "      <th>1</th>\n",
       "      <td>0.0</td>\n",
       "      <td>0.0</td>\n",
       "      <td>1.0</td>\n",
       "      <td>0.0</td>\n",
       "    </tr>\n",
       "    <tr>\n",
       "      <th>2</th>\n",
       "      <td>1.0</td>\n",
       "      <td>0.0</td>\n",
       "      <td>0.0</td>\n",
       "      <td>0.0</td>\n",
       "    </tr>\n",
       "    <tr>\n",
       "      <th>3</th>\n",
       "      <td>0.0</td>\n",
       "      <td>0.0</td>\n",
       "      <td>1.0</td>\n",
       "      <td>0.0</td>\n",
       "    </tr>\n",
       "    <tr>\n",
       "      <th>4</th>\n",
       "      <td>1.0</td>\n",
       "      <td>0.0</td>\n",
       "      <td>0.0</td>\n",
       "      <td>0.0</td>\n",
       "    </tr>\n",
       "    <tr>\n",
       "      <th>...</th>\n",
       "      <td>...</td>\n",
       "      <td>...</td>\n",
       "      <td>...</td>\n",
       "      <td>...</td>\n",
       "    </tr>\n",
       "    <tr>\n",
       "      <th>1078</th>\n",
       "      <td>1.0</td>\n",
       "      <td>0.0</td>\n",
       "      <td>0.0</td>\n",
       "      <td>0.0</td>\n",
       "    </tr>\n",
       "    <tr>\n",
       "      <th>1079</th>\n",
       "      <td>1.0</td>\n",
       "      <td>0.0</td>\n",
       "      <td>0.0</td>\n",
       "      <td>0.0</td>\n",
       "    </tr>\n",
       "    <tr>\n",
       "      <th>1080</th>\n",
       "      <td>1.0</td>\n",
       "      <td>0.0</td>\n",
       "      <td>0.0</td>\n",
       "      <td>0.0</td>\n",
       "    </tr>\n",
       "    <tr>\n",
       "      <th>1081</th>\n",
       "      <td>1.0</td>\n",
       "      <td>0.0</td>\n",
       "      <td>0.0</td>\n",
       "      <td>0.0</td>\n",
       "    </tr>\n",
       "    <tr>\n",
       "      <th>1082</th>\n",
       "      <td>1.0</td>\n",
       "      <td>0.0</td>\n",
       "      <td>0.0</td>\n",
       "      <td>0.0</td>\n",
       "    </tr>\n",
       "  </tbody>\n",
       "</table>\n",
       "<p>1083 rows × 4 columns</p>\n",
       "</div>"
      ],
      "text/plain": [
       "      tipo_de_propiedad_Casa  tipo_de_propiedad_Casa con Espacio Comercial   \n",
       "0                        0.0                                           0.0  \\\n",
       "1                        0.0                                           0.0   \n",
       "2                        1.0                                           0.0   \n",
       "3                        0.0                                           0.0   \n",
       "4                        1.0                                           0.0   \n",
       "...                      ...                                           ...   \n",
       "1078                     1.0                                           0.0   \n",
       "1079                     1.0                                           0.0   \n",
       "1080                     1.0                                           0.0   \n",
       "1081                     1.0                                           0.0   \n",
       "1082                     1.0                                           0.0   \n",
       "\n",
       "      tipo_de_propiedad_Departamento  tipo_de_propiedad_Estudio/Monoambiente  \n",
       "0                                1.0                                     0.0  \n",
       "1                                1.0                                     0.0  \n",
       "2                                0.0                                     0.0  \n",
       "3                                1.0                                     0.0  \n",
       "4                                0.0                                     0.0  \n",
       "...                              ...                                     ...  \n",
       "1078                             0.0                                     0.0  \n",
       "1079                             0.0                                     0.0  \n",
       "1080                             0.0                                     0.0  \n",
       "1081                             0.0                                     0.0  \n",
       "1082                             0.0                                     0.0  \n",
       "\n",
       "[1083 rows x 4 columns]"
      ]
     },
     "execution_count": 46,
     "metadata": {},
     "output_type": "execute_result"
    }
   ],
   "source": [
    "#inspeccionando las columnas\n",
    "scaler = preprocessor.fit(X_train)\n",
    "X_train_trans = scaler.transform(X_train)\n",
    "X_test_trans = scaler.transform(X_test)\n",
    "df_transf = pd.DataFrame(X_train_trans)\n",
    "def get_column_names(column_transformer):\n",
    "  features_names =[]\n",
    "  for key, value in column_transformer.named_transformers_.items():\n",
    "    features = list(value.get_feature_names_out())\n",
    "    features_names.extend(features)\n",
    "  return features_names\n",
    "df_transf.columns = get_column_names(preprocessor)\n",
    "df_transf[['tipo_de_propiedad_Casa',\n",
    "       'tipo_de_propiedad_Casa con Espacio Comercial',\n",
    "       'tipo_de_propiedad_Departamento',\n",
    "       'tipo_de_propiedad_Estudio/Monoambiente']]\n",
    "#print(y_stratify.value_counts())\n",
    "#df_transf[['tipo_de_propiedad_Departamento']].sum() #proporciones se mantienen según tipo de propiedad"
   ]
  },
  {
   "cell_type": "code",
   "execution_count": 47,
   "metadata": {},
   "outputs": [
    {
     "name": "stdout",
     "output_type": "stream",
     "text": [
      "[12, 12, 12, 12, 12, 12.3, 12, 12.43, 12.3, 'Departamento', 'Santa Cruz de la Sierra', 'Norte']\n"
     ]
    }
   ],
   "source": [
    "import pandas as pd\n",
    "\n",
    "columns = ['ambientes', 'no_baños', 'terreno_m2', 'año_constr', 'no_dormitorios',\n",
    "           'area_constr_m2', 'estacionamientos', 'latitud', 'longitud',\n",
    "           'tipo_de_propiedad', 'ciudad', 'zona']\n",
    "\n",
    "data = [[5, 2, 60, 2018, 2, 60, 1, -17.787357, -63.213448, 'Departamento',\n",
    "     'Santa Cruz de la Sierra', 'Oeste']]\n",
    "\n",
    "data_2 = pd.DataFrame(data, columns=columns)\n",
    "input = ['12', '12', '12', '12', '12', '12.3', '12', '12.43', '12.3', 'Departamento', 'Santa Cruz de la Sierra', 'Norte']\n",
    "\n",
    "# Convert numbers to integers or floats\n",
    "converted_input = []\n",
    "for x in input:\n",
    "    if x.isdigit():\n",
    "        converted_input.append(int(x))\n",
    "    else:\n",
    "        try:\n",
    "            converted_input.append(float(x))\n",
    "        except ValueError:\n",
    "            converted_input.append(x)\n",
    "\n",
    "print(converted_input)\n"
   ]
  },
  {
   "cell_type": "code",
   "execution_count": 48,
   "metadata": {},
   "outputs": [
    {
     "name": "stdout",
     "output_type": "stream",
     "text": [
      "   ambientes  no_baños  terreno_m2  año_constr  no_dormitorios   \n",
      "0         12        12          12          12              12  \\\n",
      "\n",
      "   area_constr_m2  estacionamientos  latitud  longitud tipo_de_propiedad   \n",
      "0            12.3                12    12.43      12.3      Departamento  \\\n",
      "\n",
      "                    ciudad   zona  \n",
      "0  Santa Cruz de la Sierra  Norte  \n"
     ]
    },
    {
     "ename": "FileNotFoundError",
     "evalue": "[Errno 2] No such file or directory: 'model_file.p'",
     "output_type": "error",
     "traceback": [
      "\u001b[1;31m---------------------------------------------------------------------------\u001b[0m",
      "\u001b[1;31mFileNotFoundError\u001b[0m                         Traceback (most recent call last)",
      "Cell \u001b[1;32mIn[48], line 25\u001b[0m\n\u001b[0;32m     22\u001b[0m     result \u001b[39m=\u001b[39m loaded_model[\u001b[39m'\u001b[39m\u001b[39mmodel\u001b[39m\u001b[39m'\u001b[39m]\u001b[39m.\u001b[39mpredict(data_df)\n\u001b[0;32m     23\u001b[0m     \u001b[39mreturn\u001b[39;00m \u001b[39mint\u001b[39m(result)\n\u001b[1;32m---> 25\u001b[0m predictor(\u001b[39minput\u001b[39;49m)\n",
      "Cell \u001b[1;32mIn[48], line 21\u001b[0m, in \u001b[0;36mpredictor\u001b[1;34m(input)\u001b[0m\n\u001b[0;32m     19\u001b[0m data_df \u001b[39m=\u001b[39m pd\u001b[39m.\u001b[39mDataFrame(data, columns\u001b[39m=\u001b[39mcolumns)\n\u001b[0;32m     20\u001b[0m \u001b[39mprint\u001b[39m(data_df)\n\u001b[1;32m---> 21\u001b[0m loaded_model \u001b[39m=\u001b[39m pickle\u001b[39m.\u001b[39mload(\u001b[39mopen\u001b[39;49m(\u001b[39m\"\u001b[39;49m\u001b[39mmodel_file.p\u001b[39;49m\u001b[39m\"\u001b[39;49m,\u001b[39m\"\u001b[39;49m\u001b[39mrb\u001b[39;49m\u001b[39m\"\u001b[39;49m))\n\u001b[0;32m     22\u001b[0m result \u001b[39m=\u001b[39m loaded_model[\u001b[39m'\u001b[39m\u001b[39mmodel\u001b[39m\u001b[39m'\u001b[39m]\u001b[39m.\u001b[39mpredict(data_df)\n\u001b[0;32m     23\u001b[0m \u001b[39mreturn\u001b[39;00m \u001b[39mint\u001b[39m(result)\n",
      "File \u001b[1;32mc:\\Users\\anton_glfk00f\\miniconda3\\envs\\real_state_env\\Lib\\site-packages\\IPython\\core\\interactiveshell.py:284\u001b[0m, in \u001b[0;36m_modified_open\u001b[1;34m(file, *args, **kwargs)\u001b[0m\n\u001b[0;32m    277\u001b[0m \u001b[39mif\u001b[39;00m file \u001b[39min\u001b[39;00m {\u001b[39m0\u001b[39m, \u001b[39m1\u001b[39m, \u001b[39m2\u001b[39m}:\n\u001b[0;32m    278\u001b[0m     \u001b[39mraise\u001b[39;00m \u001b[39mValueError\u001b[39;00m(\n\u001b[0;32m    279\u001b[0m         \u001b[39mf\u001b[39m\u001b[39m\"\u001b[39m\u001b[39mIPython won\u001b[39m\u001b[39m'\u001b[39m\u001b[39mt let you open fd=\u001b[39m\u001b[39m{\u001b[39;00mfile\u001b[39m}\u001b[39;00m\u001b[39m by default \u001b[39m\u001b[39m\"\u001b[39m\n\u001b[0;32m    280\u001b[0m         \u001b[39m\"\u001b[39m\u001b[39mas it is likely to crash IPython. If you know what you are doing, \u001b[39m\u001b[39m\"\u001b[39m\n\u001b[0;32m    281\u001b[0m         \u001b[39m\"\u001b[39m\u001b[39myou can use builtins\u001b[39m\u001b[39m'\u001b[39m\u001b[39m open.\u001b[39m\u001b[39m\"\u001b[39m\n\u001b[0;32m    282\u001b[0m     )\n\u001b[1;32m--> 284\u001b[0m \u001b[39mreturn\u001b[39;00m io_open(file, \u001b[39m*\u001b[39;49margs, \u001b[39m*\u001b[39;49m\u001b[39m*\u001b[39;49mkwargs)\n",
      "\u001b[1;31mFileNotFoundError\u001b[0m: [Errno 2] No such file or directory: 'model_file.p'"
     ]
    }
   ],
   "source": [
    "input = ['12', '12', '12', '12', '12',\n",
    "          '12.3', '12', '12.43', '12.3', 'Departamento', \n",
    "          'Santa Cruz de la Sierra', 'Norte']\n",
    "\n",
    "def predictor(input):\n",
    "    columns = ['ambientes', 'no_baños', 'terreno_m2', 'año_constr', 'no_dormitorios',\n",
    "           'area_constr_m2', 'estacionamientos', 'latitud', 'longitud',\n",
    "           'tipo_de_propiedad', 'ciudad', 'zona']\n",
    "    converted_input = []\n",
    "    for x in input:\n",
    "        if x.isdigit():\n",
    "            converted_input.append(int(x))\n",
    "        else:\n",
    "            try:\n",
    "                converted_input.append(float(x))\n",
    "            except ValueError:\n",
    "                converted_input.append(x)\n",
    "    data = [converted_input]\n",
    "    data_df = pd.DataFrame(data, columns=columns)\n",
    "    print(data_df)\n",
    "    loaded_model = pickle.load(open(\"model_file.p\",\"rb\"))\n",
    "    result = loaded_model['model'].predict(data_df)\n",
    "    return int(result)\n",
    "\n",
    "predictor(input)"
   ]
  },
  {
   "cell_type": "code",
   "execution_count": null,
   "metadata": {},
   "outputs": [],
   "source": [
    "numerical = ['estacionamientos','ambientes', 'no_baños', 'terreno_m2', 'año_constr',\n",
    "       'no_dormitorios', 'area_constr_m2', 'latitud', 'longitud']\n",
    "df_6 = df_6.drop(df_6[df_6['estacionamientos']==90].index)\n",
    "df_6.shape"
   ]
  }
 ],
 "metadata": {
  "kernelspec": {
   "display_name": "real_state_env",
   "language": "python",
   "name": "python3"
  },
  "language_info": {
   "codemirror_mode": {
    "name": "ipython",
    "version": 3
   },
   "file_extension": ".py",
   "mimetype": "text/x-python",
   "name": "python",
   "nbconvert_exporter": "python",
   "pygments_lexer": "ipython3",
   "version": "3.11.0"
  },
  "orig_nbformat": 4
 },
 "nbformat": 4,
 "nbformat_minor": 2
}
